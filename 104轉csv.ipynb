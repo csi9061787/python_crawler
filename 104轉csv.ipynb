{
 "cells": [
  {
   "cell_type": "code",
   "execution_count": null,
   "metadata": {},
   "outputs": [],
   "source": [
    "from bs4 import BeautifulSoup\n",
    "import requests\n",
    "import os\n",
    "import pandas as pd\n",
    "import csv\n",
    "import glob"
   ]
  },
  {
   "cell_type": "code",
   "execution_count": null,
   "metadata": {},
   "outputs": [],
   "source": [
    "url = 'https://www.104.com.tw/jobs/search/?keyword=python&order=1&jobsource=2018indexpoc&ro=0'\n",
    "useragent='Mozilla/5.0 (Windows NT 10.0; Win64; x64) AppleWebKit/537.36 (KHTML, like Gecko) Chrome/88.0.4324.104 Safari/537.36'\n",
    "headers={'user-agent':useragent}\n",
    "\n",
    "htmlFile = requests.get(url, headers=headers)\n",
    "# print(htmlFile)\n",
    "ObjSoup=BeautifulSoup(htmlFile.text,'html.parser')\n",
    "print(ObjSoup)\n",
    "jobs = ObjSoup.find_all('article',class_='js-job-item')                     #搜尋所有職缺"
   ]
  },
  {
   "cell_type": "code",
   "execution_count": null,
   "metadata": {},
   "outputs": [],
   "source": [
    "fn='104人力銀行職缺內容.csv'                                                 #取CSV檔名\n",
    "columns_name=['職缺內容','公司名稱','地址','薪資','網址']                     #第一欄的名稱\n",
    "with open(fn,'w',newline='',) as csvFile:                                   #定義CSV的寫入檔,並且每次寫入完會換下一行\n",
    "    dictWriter = csv.DictWriter(csvFile,fieldnames=columns_name)            #定義寫入器\n",
    "    dictWriter.writeheader()\n",
    "    \n",
    "    for job in jobs:\n",
    "        job_name=job.find('a',class_=\"js-job-link\").text                    #職缺內容\n",
    "        job_company=job.get('data-cust-name')                               #公司名稱\n",
    "        job_loc=job.find('ul', class_='job-list-intro').find('li').text     #地址\n",
    "        job_pay=job.find('span',class_='b-tag--default').text               #薪資\n",
    "        job_url=job.find('a').get('href')                                   #網址\n",
    "        \n",
    "        dictWriter.writerow({'職缺內容':job_name,'公司名稱':job_company,\n",
    "                            '地址':job_loc,'薪資':job_pay,'網址':job_url})"
   ]
  }
 ],
 "metadata": {
  "kernelspec": {
   "display_name": "Python 3",
   "language": "python",
   "name": "python3"
  },
  "language_info": {
   "codemirror_mode": {
    "name": "ipython",
    "version": 3
   },
   "file_extension": ".py",
   "mimetype": "text/x-python",
   "name": "python",
   "nbconvert_exporter": "python",
   "pygments_lexer": "ipython3",
   "version": "3.7.4"
  }
 },
 "nbformat": 4,
 "nbformat_minor": 5
}
